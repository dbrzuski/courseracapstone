{
    "cells": [
        {
            "cell_type": "markdown",
            "metadata": {
                "collapsed": true
            },
            "source": "<h2>Population and Available Amenities in Metro Toronto</h2>"
        },
        
        {
            "cell_type": "markdown",
            "metadata": {},
            "source": "#### Methodology"
        },
        {
            "cell_type": "markdown",
            "metadata": {},
            "source": "##### Data Import and Cleansing"
        },
        {
            "cell_type": "markdown",
            "metadata": {},
            "source": "Import Relevant packages from python libraries. "
        },
        {
            "cell_type": "code",
            "execution_count": 1,
            "metadata": {},
            "outputs": [],
            "source": "import requests \nfrom bs4 import BeautifulSoup\nimport pandas as pd\nimport types\nimport pandas as pd\nfrom botocore.client import Config\nimport ibm_boto3\nimport numpy as np\nfrom geopy.geocoders import Nominatim\nfrom sklearn.cluster import KMeans\nimport matplotlib.cm as cm\nimport matplotlib.colors as colors\n"
        },
        {
            "cell_type": "markdown",
            "metadata": {},
            "source": "Scrape Metro Toronto Area (MTA) Postal Code, Neighborhood, and Borough data from wikipedia."
        },
        {
            "cell_type": "code",
            "execution_count": 168,
            "metadata": {},
            "outputs": [],
            "source": "url = 'https://en.wikipedia.org/wiki/List_of_postal_codes_of_Canada:_M'\nresponse = requests.get(url)\nsoup = BeautifulSoup(response.text, 'html.parser')\ntable = soup.find('table',{'class': 'wikitable sortable'}).tbody\n\n\n\n\n    \n   "
        },
        {
            "cell_type": "code",
            "execution_count": 169,
            "metadata": {},
            "outputs": [],
            "source": "rows = table.find_all('tr')\ncolumns = [v.text.replace('\\n','') for v in rows[0].find_all('th')]\n\ndf = pd.DataFrame(columns = columns)"
        },
        {
            "cell_type": "code",
            "execution_count": 170,
            "metadata": {},
            "outputs": [],
            "source": "for i in range(1, len(rows)):\n    tds = rows[i].find_all('td')\n    \n    if len(tds) == 2:\n        values = [tds[0].text,tds[1].text,'']\n    else:\n        values = [td.text.replace('\\n','') for td in tds]\n    \n    df = df.append(pd.Series(values, index = columns),ignore_index = True)\n    "
        },
        {
            "cell_type": "markdown",
            "metadata": {},
            "source": "Clean Data"
        },
        {
            "cell_type": "code",
            "execution_count": 171,
            "metadata": {},
            "outputs": [],
            "source": "# Remove Records where Bourough is 'Not Assigned'\ndf = df[df.Borough != 'Not assigned']\ndf.reset_index(drop = True, inplace = True)\n\n#Replace slash with comma for readibility\ndf = df.replace(regex = [' /'], value = ',')\n\n"
        },
        {
            "cell_type": "markdown",
            "metadata": {},
            "source": "Import and Merge Latitude and Longitude data elements from exterior csv file."
        },
        {
            "cell_type": "code",
            "execution_count": 172,
            "metadata": {},
            "outputs": [
                {
                    "data": {
                        "text/html": "<div>\n<style scoped>\n    .dataframe tbody tr th:only-of-type {\n        vertical-align: middle;\n    }\n\n    .dataframe tbody tr th {\n        vertical-align: top;\n    }\n\n    .dataframe thead th {\n        text-align: right;\n    }\n</style>\n<table border=\"1\" class=\"dataframe\">\n  <thead>\n    <tr style=\"text-align: right;\">\n      <th></th>\n      <th>Postal Code</th>\n      <th>Latitude</th>\n      <th>Longitude</th>\n    </tr>\n  </thead>\n  <tbody>\n    <tr>\n      <th>0</th>\n      <td>M1B</td>\n      <td>43.806686</td>\n      <td>-79.194353</td>\n    </tr>\n    <tr>\n      <th>1</th>\n      <td>M1C</td>\n      <td>43.784535</td>\n      <td>-79.160497</td>\n    </tr>\n    <tr>\n      <th>2</th>\n      <td>M1E</td>\n      <td>43.763573</td>\n      <td>-79.188711</td>\n    </tr>\n    <tr>\n      <th>3</th>\n      <td>M1G</td>\n      <td>43.770992</td>\n      <td>-79.216917</td>\n    </tr>\n    <tr>\n      <th>4</th>\n      <td>M1H</td>\n      <td>43.773136</td>\n      <td>-79.239476</td>\n    </tr>\n  </tbody>\n</table>\n</div>",
                        "text/plain": "  Postal Code   Latitude  Longitude\n0         M1B  43.806686 -79.194353\n1         M1C  43.784535 -79.160497\n2         M1E  43.763573 -79.188711\n3         M1G  43.770992 -79.216917\n4         M1H  43.773136 -79.239476"
                    },
                    "execution_count": 172,
                    "metadata": {},
                    "output_type": "execute_result"
                }
            ],
            "source": "# The code was removed by Watson Studio for sharing."
        },
        {
            "cell_type": "code",
            "execution_count": 173,
            "metadata": {},
            "outputs": [
                {
                    "data": {
                        "text/html": "<div>\n<style scoped>\n    .dataframe tbody tr th:only-of-type {\n        vertical-align: middle;\n    }\n\n    .dataframe tbody tr th {\n        vertical-align: top;\n    }\n\n    .dataframe thead th {\n        text-align: right;\n    }\n</style>\n<table border=\"1\" class=\"dataframe\">\n  <thead>\n    <tr style=\"text-align: right;\">\n      <th></th>\n      <th>Postal Code</th>\n      <th>Borough</th>\n      <th>Neighborhood</th>\n      <th>Latitude</th>\n      <th>Longitude</th>\n    </tr>\n  </thead>\n  <tbody>\n    <tr>\n      <th>0</th>\n      <td>M3A</td>\n      <td>North York</td>\n      <td>Parkwoods</td>\n      <td>43.753259</td>\n      <td>-79.329656</td>\n    </tr>\n    <tr>\n      <th>1</th>\n      <td>M4A</td>\n      <td>North York</td>\n      <td>Victoria Village</td>\n      <td>43.725882</td>\n      <td>-79.315572</td>\n    </tr>\n    <tr>\n      <th>2</th>\n      <td>M5A</td>\n      <td>Downtown Toronto</td>\n      <td>Regent Park, Harbourfront</td>\n      <td>43.654260</td>\n      <td>-79.360636</td>\n    </tr>\n    <tr>\n      <th>3</th>\n      <td>M6A</td>\n      <td>North York</td>\n      <td>Lawrence Manor, Lawrence Heights</td>\n      <td>43.718518</td>\n      <td>-79.464763</td>\n    </tr>\n    <tr>\n      <th>4</th>\n      <td>M7A</td>\n      <td>Downtown Toronto</td>\n      <td>Queen's Park, Ontario Provincial Government</td>\n      <td>43.662301</td>\n      <td>-79.389494</td>\n    </tr>\n  </tbody>\n</table>\n</div>",
                        "text/plain": "  Postal Code           Borough                                 Neighborhood  \\\n0         M3A        North York                                    Parkwoods   \n1         M4A        North York                             Victoria Village   \n2         M5A  Downtown Toronto                    Regent Park, Harbourfront   \n3         M6A        North York             Lawrence Manor, Lawrence Heights   \n4         M7A  Downtown Toronto  Queen's Park, Ontario Provincial Government   \n\n    Latitude  Longitude  \n0  43.753259 -79.329656  \n1  43.725882 -79.315572  \n2  43.654260 -79.360636  \n3  43.718518 -79.464763  \n4  43.662301 -79.389494  "
                    },
                    "execution_count": 173,
                    "metadata": {},
                    "output_type": "execute_result"
                }
            ],
            "source": "df = pd.merge(df,  \n                      lat_long,  \n                      left_on ='Postal Code', right_on = 'Postal Code', how ='left') \n\n#del df['Postal Code']\ndf.head()\n\n"
        },
        {
            "cell_type": "markdown",
            "metadata": {},
            "source": "Import and merge Canadian Population Data with Postal Code data frame."
        },
        {
            "cell_type": "code",
            "execution_count": 174,
            "metadata": {},
            "outputs": [
                {
                    "data": {
                        "text/html": "<div>\n<style scoped>\n    .dataframe tbody tr th:only-of-type {\n        vertical-align: middle;\n    }\n\n    .dataframe tbody tr th {\n        vertical-align: top;\n    }\n\n    .dataframe thead th {\n        text-align: right;\n    }\n</style>\n<table border=\"1\" class=\"dataframe\">\n  <thead>\n    <tr style=\"text-align: right;\">\n      <th></th>\n      <th>Postal Code</th>\n      <th>Borough</th>\n      <th>Neighborhood</th>\n      <th>Latitude</th>\n      <th>Longitude</th>\n      <th>Geographic code</th>\n      <th>Geographic name</th>\n      <th>Province or territory</th>\n      <th>Incompletely enumerated Indian reserves and Indian settlements, 2016</th>\n      <th>Population, 2016</th>\n      <th>Total private dwellings, 2016</th>\n      <th>Private dwellings occupied by usual residents, 2016</th>\n    </tr>\n  </thead>\n  <tbody>\n    <tr>\n      <th>0</th>\n      <td>M3A</td>\n      <td>North York</td>\n      <td>Parkwoods</td>\n      <td>43.753259</td>\n      <td>-79.329656</td>\n      <td>M3A</td>\n      <td>M3A</td>\n      <td>Ontario</td>\n      <td>NaN</td>\n      <td>34615.0</td>\n      <td>13847.0</td>\n      <td>13241.0</td>\n    </tr>\n    <tr>\n      <th>1</th>\n      <td>M4A</td>\n      <td>North York</td>\n      <td>Victoria Village</td>\n      <td>43.725882</td>\n      <td>-79.315572</td>\n      <td>M4A</td>\n      <td>M4A</td>\n      <td>Ontario</td>\n      <td>NaN</td>\n      <td>14443.0</td>\n      <td>6299.0</td>\n      <td>6170.0</td>\n    </tr>\n    <tr>\n      <th>2</th>\n      <td>M5A</td>\n      <td>Downtown Toronto</td>\n      <td>Regent Park, Harbourfront</td>\n      <td>43.654260</td>\n      <td>-79.360636</td>\n      <td>M5A</td>\n      <td>M5A</td>\n      <td>Ontario</td>\n      <td>NaN</td>\n      <td>41078.0</td>\n      <td>24186.0</td>\n      <td>22333.0</td>\n    </tr>\n    <tr>\n      <th>3</th>\n      <td>M6A</td>\n      <td>North York</td>\n      <td>Lawrence Manor, Lawrence Heights</td>\n      <td>43.718518</td>\n      <td>-79.464763</td>\n      <td>M6A</td>\n      <td>M6A</td>\n      <td>Ontario</td>\n      <td>NaN</td>\n      <td>21048.0</td>\n      <td>8751.0</td>\n      <td>8074.0</td>\n    </tr>\n    <tr>\n      <th>4</th>\n      <td>M7A</td>\n      <td>Downtown Toronto</td>\n      <td>Queen's Park, Ontario Provincial Government</td>\n      <td>43.662301</td>\n      <td>-79.389494</td>\n      <td>M7A</td>\n      <td>M7A</td>\n      <td>Ontario</td>\n      <td>NaN</td>\n      <td>10.0</td>\n      <td>6.0</td>\n      <td>5.0</td>\n    </tr>\n  </tbody>\n</table>\n</div>",
                        "text/plain": "  Postal Code           Borough                                 Neighborhood  \\\n0         M3A        North York                                    Parkwoods   \n1         M4A        North York                             Victoria Village   \n2         M5A  Downtown Toronto                    Regent Park, Harbourfront   \n3         M6A        North York             Lawrence Manor, Lawrence Heights   \n4         M7A  Downtown Toronto  Queen's Park, Ontario Provincial Government   \n\n    Latitude  Longitude Geographic code Geographic name Province or territory  \\\n0  43.753259 -79.329656             M3A             M3A               Ontario   \n1  43.725882 -79.315572             M4A             M4A               Ontario   \n2  43.654260 -79.360636             M5A             M5A               Ontario   \n3  43.718518 -79.464763             M6A             M6A               Ontario   \n4  43.662301 -79.389494             M7A             M7A               Ontario   \n\n   Incompletely enumerated Indian reserves and Indian settlements, 2016  \\\n0                                                NaN                      \n1                                                NaN                      \n2                                                NaN                      \n3                                                NaN                      \n4                                                NaN                      \n\n   Population, 2016  Total private dwellings, 2016  \\\n0           34615.0                        13847.0   \n1           14443.0                         6299.0   \n2           41078.0                        24186.0   \n3           21048.0                         8751.0   \n4              10.0                            6.0   \n\n   Private dwellings occupied by usual residents, 2016  \n0                                            13241.0    \n1                                             6170.0    \n2                                            22333.0    \n3                                             8074.0    \n4                                                5.0    "
                    },
                    "execution_count": 174,
                    "metadata": {},
                    "output_type": "execute_result"
                }
            ],
            "source": "\nbody = client_0cac3b5226434df4afeb5e53fe6c1f81.get_object(Bucket='courseracapstoneproject-donotdelete-pr-fhi9wjy4xbg1in',Key='canada_population_2016.CSV')['Body']\n# add missing __iter__ method, so pandas accepts body as file-like object\nif not hasattr(body, \"__iter__\"): body.__iter__ = types.MethodType( __iter__, body )\n\n# If you are reading an Excel file into a pandas DataFrame, replace `read_csv` by `read_excel` in the next statement.\ncan_pop= pd.read_csv(body)\n\ndf = pd.merge(df,  \n                      can_pop,  \n                      left_on ='Postal Code', right_on = 'Geographic code',  \n                      how ='left') \n\n\ndf.head()\n"
        },
        {
            "cell_type": "code",
            "execution_count": 175,
            "metadata": {},
            "outputs": [
                {
                    "data": {
                        "text/plain": "(103, 10)"
                    },
                    "execution_count": 175,
                    "metadata": {},
                    "output_type": "execute_result"
                }
            ],
            "source": "del df['Geographic code']\ndel df['Geographic name']\n\nnp.shape(df)"
        },
        {
            "cell_type": "code",
            "execution_count": 176,
            "metadata": {},
            "outputs": [
                {
                    "data": {
                        "text/html": "<div>\n<style scoped>\n    .dataframe tbody tr th:only-of-type {\n        vertical-align: middle;\n    }\n\n    .dataframe tbody tr th {\n        vertical-align: top;\n    }\n\n    .dataframe thead th {\n        text-align: right;\n    }\n</style>\n<table border=\"1\" class=\"dataframe\">\n  <thead>\n    <tr style=\"text-align: right;\">\n      <th></th>\n      <th>Postal Code</th>\n      <th>Borough</th>\n      <th>Neighborhood</th>\n      <th>Latitude</th>\n      <th>Longitude</th>\n      <th>Province or territory</th>\n      <th>Incompletely enumerated Indian reserves and Indian settlements, 2016</th>\n      <th>Population, 2016</th>\n      <th>Total private dwellings, 2016</th>\n      <th>Private dwellings occupied by usual residents, 2016</th>\n    </tr>\n  </thead>\n  <tbody>\n    <tr>\n      <th>0</th>\n      <td>M3A</td>\n      <td>North York</td>\n      <td>Parkwoods</td>\n      <td>43.753259</td>\n      <td>-79.329656</td>\n      <td>Ontario</td>\n      <td>NaN</td>\n      <td>34615.0</td>\n      <td>13847.0</td>\n      <td>13241.0</td>\n    </tr>\n    <tr>\n      <th>1</th>\n      <td>M4A</td>\n      <td>North York</td>\n      <td>Victoria Village</td>\n      <td>43.725882</td>\n      <td>-79.315572</td>\n      <td>Ontario</td>\n      <td>NaN</td>\n      <td>14443.0</td>\n      <td>6299.0</td>\n      <td>6170.0</td>\n    </tr>\n    <tr>\n      <th>2</th>\n      <td>M5A</td>\n      <td>Downtown Toronto</td>\n      <td>Regent Park, Harbourfront</td>\n      <td>43.654260</td>\n      <td>-79.360636</td>\n      <td>Ontario</td>\n      <td>NaN</td>\n      <td>41078.0</td>\n      <td>24186.0</td>\n      <td>22333.0</td>\n    </tr>\n    <tr>\n      <th>3</th>\n      <td>M6A</td>\n      <td>North York</td>\n      <td>Lawrence Manor, Lawrence Heights</td>\n      <td>43.718518</td>\n      <td>-79.464763</td>\n      <td>Ontario</td>\n      <td>NaN</td>\n      <td>21048.0</td>\n      <td>8751.0</td>\n      <td>8074.0</td>\n    </tr>\n    <tr>\n      <th>4</th>\n      <td>M7A</td>\n      <td>Downtown Toronto</td>\n      <td>Queen's Park, Ontario Provincial Government</td>\n      <td>43.662301</td>\n      <td>-79.389494</td>\n      <td>Ontario</td>\n      <td>NaN</td>\n      <td>10.0</td>\n      <td>6.0</td>\n      <td>5.0</td>\n    </tr>\n  </tbody>\n</table>\n</div>",
                        "text/plain": "  Postal Code           Borough                                 Neighborhood  \\\n0         M3A        North York                                    Parkwoods   \n1         M4A        North York                             Victoria Village   \n2         M5A  Downtown Toronto                    Regent Park, Harbourfront   \n3         M6A        North York             Lawrence Manor, Lawrence Heights   \n4         M7A  Downtown Toronto  Queen's Park, Ontario Provincial Government   \n\n    Latitude  Longitude Province or territory  \\\n0  43.753259 -79.329656               Ontario   \n1  43.725882 -79.315572               Ontario   \n2  43.654260 -79.360636               Ontario   \n3  43.718518 -79.464763               Ontario   \n4  43.662301 -79.389494               Ontario   \n\n   Incompletely enumerated Indian reserves and Indian settlements, 2016  \\\n0                                                NaN                      \n1                                                NaN                      \n2                                                NaN                      \n3                                                NaN                      \n4                                                NaN                      \n\n   Population, 2016  Total private dwellings, 2016  \\\n0           34615.0                        13847.0   \n1           14443.0                         6299.0   \n2           41078.0                        24186.0   \n3           21048.0                         8751.0   \n4              10.0                            6.0   \n\n   Private dwellings occupied by usual residents, 2016  \n0                                            13241.0    \n1                                             6170.0    \n2                                            22333.0    \n3                                             8074.0    \n4                                                5.0    "
                    },
                    "execution_count": 176,
                    "metadata": {},
                    "output_type": "execute_result"
                }
            ],
            "source": "df.head()"
        },
        {
            "cell_type": "markdown",
            "metadata": {},
            "source": "##### Connect to Four Square API\n"
        },
        {
            "cell_type": "code",
            "execution_count": 177,
            "metadata": {},
            "outputs": [
                {
                    "name": "stdout",
                    "output_type": "stream",
                    "text": "Your credentails:\nCLIENT_ID: RGJCKSF5EHK4ECOGASXU1WXIPM2F0HSR3FVQVR3T3YBQ2EGU\nCLIENT_SECRET:KSWPXKPGLJDNRAY1E0RTRA10S1AOB5MXPHEI5JDIXO3OK1EA\n"
                }
            ],
            "source": "CLIENT_ID = 'RGJCKSF5EHK4ECOGASXU1WXIPM2F0HSR3FVQVR3T3YBQ2EGU' # your Foursquare ID\nCLIENT_SECRET = 'KSWPXKPGLJDNRAY1E0RTRA10S1AOB5MXPHEI5JDIXO3OK1EA' # your Foursquare Secret\nVERSION = '20180605' # Foursquare API version\nradius = 500\nLIMIT = 30\n\nprint('Your credentails:')\nprint('CLIENT_ID: ' + CLIENT_ID)\nprint('CLIENT_SECRET:' + CLIENT_SECRET)"
        },
        {
            "cell_type": "markdown",
            "metadata": {},
            "source": "Create Function that generates all venues for all neighborhoods"
        },
        {
            "cell_type": "code",
            "execution_count": 178,
            "metadata": {},
            "outputs": [],
            "source": "def getNearbyVenues(names, latitudes, longitudes, radius=500):\n    \n    venues_list=[]\n    for name, lat, lng in zip(names, latitudes, longitudes):\n        print(name)\n            \n        # create the API request URL\n        url = 'https://api.foursquare.com/v2/venues/explore?&client_id={}&client_secret={}&v={}&ll={},{}&radius={}&limit={}'.format(\n            CLIENT_ID, \n            CLIENT_SECRET, \n            VERSION, \n            lat, \n            lng, \n            radius, \n            LIMIT)\n            \n        # make the GET request\n        results = requests.get(url).json()[\"response\"]['groups'][0]['items']\n        \n        # return only relevant information for each nearby venue\n        venues_list.append([(\n            name, \n            lat, \n            lng, \n            v['venue']['name'], \n            v['venue']['location']['lat'], \n            v['venue']['location']['lng'],  \n            v['venue']['categories'][0]['name']) for v in results])\n    nearby_venues = pd.DataFrame([item for venue_list in venues_list for item in venue_list])\n    nearby_venues.columns = ['Neighborhood', \n                  'Neighborhood Latitude', \n                  'Neighborhood Longitude', \n                  'Venue', \n                  'Venue Latitude', \n                  'Venue Longitude', \n                  'Venue Category']\n    \n    return(nearby_venues)"
        },
        {
            "cell_type": "markdown",
            "metadata": {},
            "source": "Pull Data from FourSquare API"
        },
        {
            "cell_type": "code",
            "execution_count": 87,
            "metadata": {},
            "outputs": [
                {
                    "name": "stdout",
                    "output_type": "stream",
                    "text": "Parkwoods\nVictoria Village\nRegent Park, Harbourfront\nLawrence Manor, Lawrence Heights\nQueen's Park, Ontario Provincial Government\nIslington Avenue, Humber Valley Village\nMalvern, Rouge\nDon Mills\nParkview Hill, Woodbine Gardens\nGarden District, Ryerson\nGlencairn\nWest Deane Park, Princess Gardens, Martin Grove, Islington, Cloverdale\nRouge Hill, Port Union, Highland Creek\nDon Mills\nWoodbine Heights\nSt. James Town\nHumewood-Cedarvale\nEringate, Bloordale Gardens, Old Burnhamthorpe, Markland Wood\nGuildwood, Morningside, West Hill\nThe Beaches\nBerczy Park\nCaledonia-Fairbanks\nWoburn\nLeaside\nCentral Bay Street\nChristie\nCedarbrae\nHillcrest Village\nBathurst Manor, Wilson Heights, Downsview North\nThorncliffe Park\nRichmond, Adelaide, King\nDufferin, Dovercourt Village\nScarborough Village\nFairview, Henry Farm, Oriole\nNorthwood Park, York University\nEast Toronto, Broadview North (Old East York)\nHarbourfront East, Union Station, Toronto Islands\nLittle Portugal, Trinity\nKennedy Park, Ionview, East Birchmount Park\nBayview Village\nDownsview\nThe Danforth West, Riverdale\nToronto Dominion Centre, Design Exchange\nBrockton, Parkdale Village, Exhibition Place\nGolden Mile, Clairlea, Oakridge\nYork Mills, Silver Hills\nDownsview\nIndia Bazaar, The Beaches West\nCommerce Court, Victoria Hotel\nNorth Park, Maple Leaf Park, Upwood Park\nHumber Summit\nCliffside, Cliffcrest, Scarborough Village West\nWillowdale, Newtonbrook\nDownsview\nStudio District\nBedford Park, Lawrence Manor East\nDel Ray, Mount Dennis, Keelsdale and Silverthorn\nHumberlea, Emery\nBirch Cliff, Cliffside West\nWillowdale, Willowdale East\nDownsview\nLawrence Park\nRoselawn\nRunnymede, The Junction North\nWeston\nDorset Park, Wexford Heights, Scarborough Town Centre\nYork Mills West\nDavisville North\nForest Hill North & West, Forest Hill Road Park\nHigh Park, The Junction South\nWestmount\nWexford, Maryvale\nWillowdale, Willowdale West\nNorth Toronto West,  Lawrence Park\nThe Annex, North Midtown, Yorkville\nParkdale, Roncesvalles\nCanada Post Gateway Processing Centre\nKingsview Village, St. Phillips, Martin Grove Gardens, Richview Gardens\nAgincourt\nDavisville\nUniversity of Toronto, Harbord\nRunnymede, Swansea\nClarks Corners, Tam O'Shanter, Sullivan\nMoore Park, Summerhill East\nKensington Market, Chinatown, Grange Park\nMilliken, Agincourt North, Steeles East, L'Amoreaux East\nSummerhill West, Rathnelly, South Hill, Forest Hill SE, Deer Park\nCN Tower, King and Spadina, Railway Lands, Harbourfront West, Bathurst Quay, South Niagara, Island airport\nNew Toronto, Mimico South, Humber Bay Shores\nSouth Steeles, Silverstone, Humbergate, Jamestown, Mount Olive, Beaumond Heights, Thistletown, Albion Gardens\nSteeles West, L'Amoreaux West\nRosedale\nStn A PO Boxes\nAlderwood, Long Branch\nNorthwest, West Humber - Clairville\nUpper Rouge\nSt. James Town, Cabbagetown\nFirst Canadian Place, Underground city\nThe Kingsway, Montgomery Road, Old Mill North\nChurch and Wellesley\nBusiness reply mail Processing Centre, South Central Letter Processing Plant Toronto\nOld Mill South, King's Mill Park, Sunnylea, Humber Bay, Mimico NE, The Queensway East, Royal York South East, Kingsway Park South East\nMimico NW, The Queensway West, South of Bloor, Kingsway Park South West, Royal York South West\n"
                }
            ],
            "source": "toronto_venues = getNearbyVenues(names=df['Neighborhood'],\n                                   latitudes=df['Latitude'],\n                                   longitudes=df['Longitude']\n                                  )"
        },
        {
            "cell_type": "markdown",
            "metadata": {},
            "source": "Create List of Unique Venue Categories from toronto_venues"
        },
        {
            "cell_type": "markdown",
            "metadata": {},
            "source": "Segrate Data for Problem Number 1: Regression of quick service restaurants to population and dwelling volume. Quick service restaurants are defined as having a Venue Category of: Fast Food Restaurant, Coffee Shop, Sandwich Place, or Breakfast Spot"
        },
        {
            "cell_type": "code",
            "execution_count": 179,
            "metadata": {},
            "outputs": [
                {
                    "data": {
                        "text/html": "<div>\n<style scoped>\n    .dataframe tbody tr th:only-of-type {\n        vertical-align: middle;\n    }\n\n    .dataframe tbody tr th {\n        vertical-align: top;\n    }\n\n    .dataframe thead th {\n        text-align: right;\n    }\n</style>\n<table border=\"1\" class=\"dataframe\">\n  <thead>\n    <tr style=\"text-align: right;\">\n      <th></th>\n      <th>Neighborhood</th>\n      <th>Neighborhood Latitude</th>\n      <th>Neighborhood Longitude</th>\n      <th>Venue</th>\n      <th>Venue Latitude</th>\n      <th>Venue Longitude</th>\n      <th>Venue Category</th>\n    </tr>\n  </thead>\n  <tbody>\n    <tr>\n      <th>5</th>\n      <td>Victoria Village</td>\n      <td>43.725882</td>\n      <td>-79.315572</td>\n      <td>Tim Hortons</td>\n      <td>43.725517</td>\n      <td>-79.313103</td>\n      <td>Coffee Shop</td>\n    </tr>\n    <tr>\n      <th>11</th>\n      <td>Regent Park, Harbourfront</td>\n      <td>43.654260</td>\n      <td>-79.360636</td>\n      <td>Tandem Coffee</td>\n      <td>43.653559</td>\n      <td>-79.361809</td>\n      <td>Coffee Shop</td>\n    </tr>\n    <tr>\n      <th>12</th>\n      <td>Regent Park, Harbourfront</td>\n      <td>43.654260</td>\n      <td>-79.360636</td>\n      <td>Morning Glory Cafe</td>\n      <td>43.653947</td>\n      <td>-79.361149</td>\n      <td>Breakfast Spot</td>\n    </tr>\n    <tr>\n      <th>19</th>\n      <td>Regent Park, Harbourfront</td>\n      <td>43.654260</td>\n      <td>-79.360636</td>\n      <td>Figs Breakfast &amp; Lunch</td>\n      <td>43.655675</td>\n      <td>-79.364503</td>\n      <td>Breakfast Spot</td>\n    </tr>\n    <tr>\n      <th>22</th>\n      <td>Regent Park, Harbourfront</td>\n      <td>43.654260</td>\n      <td>-79.360636</td>\n      <td>Rooster Coffee</td>\n      <td>43.651900</td>\n      <td>-79.365609</td>\n      <td>Coffee Shop</td>\n    </tr>\n  </tbody>\n</table>\n</div>",
                        "text/plain": "                 Neighborhood  Neighborhood Latitude  Neighborhood Longitude  \\\n5            Victoria Village              43.725882              -79.315572   \n11  Regent Park, Harbourfront              43.654260              -79.360636   \n12  Regent Park, Harbourfront              43.654260              -79.360636   \n19  Regent Park, Harbourfront              43.654260              -79.360636   \n22  Regent Park, Harbourfront              43.654260              -79.360636   \n\n                     Venue  Venue Latitude  Venue Longitude  Venue Category  \n5              Tim Hortons       43.725517       -79.313103     Coffee Shop  \n11           Tandem Coffee       43.653559       -79.361809     Coffee Shop  \n12      Morning Glory Cafe       43.653947       -79.361149  Breakfast Spot  \n19  Figs Breakfast & Lunch       43.655675       -79.364503  Breakfast Spot  \n22          Rooster Coffee       43.651900       -79.365609     Coffee Shop  "
                    },
                    "execution_count": 179,
                    "metadata": {},
                    "output_type": "execute_result"
                }
            ],
            "source": "q1_ven_types = [\"Fast Food Restaurant\", \"Coffee Shop\", \"Sandwich Place\", \"Breakfast Spot\"]\nq1_data = toronto_venues[toronto_venues['Venue Category'].isin(q1_ven_types)]\nq1_data.head()"
        },
        {
            "cell_type": "code",
            "execution_count": 180,
            "metadata": {},
            "outputs": [
                {
                    "data": {
                        "text/html": "<div>\n<style scoped>\n    .dataframe tbody tr th:only-of-type {\n        vertical-align: middle;\n    }\n\n    .dataframe tbody tr th {\n        vertical-align: top;\n    }\n\n    .dataframe thead th {\n        text-align: right;\n    }\n</style>\n<table border=\"1\" class=\"dataframe\">\n  <thead>\n    <tr style=\"text-align: right;\">\n      <th></th>\n      <th></th>\n      <th></th>\n      <th>Venue</th>\n    </tr>\n    <tr>\n      <th>Neighborhood</th>\n      <th>Neighborhood Latitude</th>\n      <th>Neighborhood Longitude</th>\n      <th></th>\n    </tr>\n  </thead>\n  <tbody>\n    <tr>\n      <th>Regent Park, Harbourfront</th>\n      <th>43.654260</th>\n      <th>-79.360636</th>\n      <td>8</td>\n    </tr>\n    <tr>\n      <th>Central Bay Street</th>\n      <th>43.657952</th>\n      <th>-79.387383</th>\n      <td>8</td>\n    </tr>\n    <tr>\n      <th>Queen's Park, Ontario Provincial Government</th>\n      <th>43.662301</th>\n      <th>-79.389494</th>\n      <td>8</td>\n    </tr>\n    <tr>\n      <th>Toronto Dominion Centre, Design Exchange</th>\n      <th>43.647177</th>\n      <th>-79.381576</th>\n      <td>6</td>\n    </tr>\n    <tr>\n      <th>Leaside</th>\n      <th>43.709060</th>\n      <th>-79.363452</th>\n      <td>5</td>\n    </tr>\n  </tbody>\n</table>\n</div>",
                        "text/plain": "                                                                                          Venue\nNeighborhood                                Neighborhood Latitude Neighborhood Longitude       \nRegent Park, Harbourfront                   43.654260             -79.360636                  8\nCentral Bay Street                          43.657952             -79.387383                  8\nQueen's Park, Ontario Provincial Government 43.662301             -79.389494                  8\nToronto Dominion Centre, Design Exchange    43.647177             -79.381576                  6\nLeaside                                     43.709060             -79.363452                  5"
                    },
                    "execution_count": 180,
                    "metadata": {},
                    "output_type": "execute_result"
                }
            ],
            "source": "q1_ct = q1_data.groupby(['Neighborhood','Neighborhood Latitude','Neighborhood Longitude']).count()\ndel q1_ct['Venue Latitude']\ndel q1_ct['Venue Longitude']\ndel q1_ct['Venue Category']\nq1_ct.sort_values(by = ['Venue'], ascending = False, axis = 0, inplace = True)\n\nq1_ct.head()"
        },
        {
            "cell_type": "code",
            "execution_count": 211,
            "metadata": {},
            "outputs": [
                {
                    "data": {
                        "text/html": "<div>\n<style scoped>\n    .dataframe tbody tr th:only-of-type {\n        vertical-align: middle;\n    }\n\n    .dataframe tbody tr th {\n        vertical-align: top;\n    }\n\n    .dataframe thead th {\n        text-align: right;\n    }\n</style>\n<table border=\"1\" class=\"dataframe\">\n  <thead>\n    <tr style=\"text-align: right;\">\n      <th></th>\n      <th>Neighborhood</th>\n      <th>Venue</th>\n      <th>Postal Code</th>\n      <th>Borough</th>\n      <th>Latitude</th>\n      <th>Longitude</th>\n      <th>Province or territory</th>\n      <th>Incompletely enumerated Indian reserves and Indian settlements, 2016</th>\n      <th>Population, 2016</th>\n      <th>Total private dwellings, 2016</th>\n      <th>Private dwellings occupied by usual residents, 2016</th>\n    </tr>\n  </thead>\n  <tbody>\n    <tr>\n      <th>0</th>\n      <td>Regent Park, Harbourfront</td>\n      <td>8</td>\n      <td>M5A</td>\n      <td>Downtown Toronto</td>\n      <td>43.654260</td>\n      <td>-79.360636</td>\n      <td>Ontario</td>\n      <td>NaN</td>\n      <td>41078.0</td>\n      <td>24186.0</td>\n      <td>22333.0</td>\n    </tr>\n    <tr>\n      <th>1</th>\n      <td>Central Bay Street</td>\n      <td>8</td>\n      <td>M5G</td>\n      <td>Downtown Toronto</td>\n      <td>43.657952</td>\n      <td>-79.387383</td>\n      <td>Ontario</td>\n      <td>NaN</td>\n      <td>8423.0</td>\n      <td>5876.0</td>\n      <td>4929.0</td>\n    </tr>\n    <tr>\n      <th>2</th>\n      <td>Queen's Park, Ontario Provincial Government</td>\n      <td>8</td>\n      <td>M7A</td>\n      <td>Downtown Toronto</td>\n      <td>43.662301</td>\n      <td>-79.389494</td>\n      <td>Ontario</td>\n      <td>NaN</td>\n      <td>10.0</td>\n      <td>6.0</td>\n      <td>5.0</td>\n    </tr>\n    <tr>\n      <th>3</th>\n      <td>Toronto Dominion Centre, Design Exchange</td>\n      <td>6</td>\n      <td>M5K</td>\n      <td>Downtown Toronto</td>\n      <td>43.647177</td>\n      <td>-79.381576</td>\n      <td>Ontario</td>\n      <td>NaN</td>\n      <td>0.0</td>\n      <td>1.0</td>\n      <td>1.0</td>\n    </tr>\n    <tr>\n      <th>4</th>\n      <td>Leaside</td>\n      <td>5</td>\n      <td>M4G</td>\n      <td>East York</td>\n      <td>43.709060</td>\n      <td>-79.363452</td>\n      <td>Ontario</td>\n      <td>NaN</td>\n      <td>19076.0</td>\n      <td>8108.0</td>\n      <td>7731.0</td>\n    </tr>\n  </tbody>\n</table>\n</div>",
                        "text/plain": "                                  Neighborhood  Venue Postal Code  \\\n0                    Regent Park, Harbourfront      8         M5A   \n1                           Central Bay Street      8         M5G   \n2  Queen's Park, Ontario Provincial Government      8         M7A   \n3     Toronto Dominion Centre, Design Exchange      6         M5K   \n4                                      Leaside      5         M4G   \n\n            Borough   Latitude  Longitude Province or territory  \\\n0  Downtown Toronto  43.654260 -79.360636               Ontario   \n1  Downtown Toronto  43.657952 -79.387383               Ontario   \n2  Downtown Toronto  43.662301 -79.389494               Ontario   \n3  Downtown Toronto  43.647177 -79.381576               Ontario   \n4         East York  43.709060 -79.363452               Ontario   \n\n   Incompletely enumerated Indian reserves and Indian settlements, 2016  \\\n0                                                NaN                      \n1                                                NaN                      \n2                                                NaN                      \n3                                                NaN                      \n4                                                NaN                      \n\n   Population, 2016  Total private dwellings, 2016  \\\n0           41078.0                        24186.0   \n1            8423.0                         5876.0   \n2              10.0                            6.0   \n3               0.0                            1.0   \n4           19076.0                         8108.0   \n\n   Private dwellings occupied by usual residents, 2016  \n0                                            22333.0    \n1                                             4929.0    \n2                                                5.0    \n3                                                1.0    \n4                                             7731.0    "
                    },
                    "execution_count": 211,
                    "metadata": {},
                    "output_type": "execute_result"
                }
            ],
            "source": "q1ct = pd.merge(q1_ct, df, how = 'left', left_on = ['Neighborhood','Neighborhood Latitude','Neighborhood Longitude'], right_on = ['Neighborhood', 'Latitude', 'Longitude'])\nq1ct.head()"
        },
        {
            "cell_type": "code",
            "execution_count": 212,
            "metadata": {},
            "outputs": [],
            "source": "del q1ct['Incompletely enumerated Indian reserves and Indian settlements, 2016']"
        },
        {
            "cell_type": "markdown",
            "metadata": {},
            "source": "Create additional features for per capita rates"
        },
        {
            "cell_type": "code",
            "execution_count": 213,
            "metadata": {},
            "outputs": [],
            "source": "q1ct['Venue_per_Capita'] = q1ct['Population, 2016'] / q1ct['Venue']\nq1ct['Venue_per_Dwelling'] = q1ct['Total private dwellings, 2016'] / q1ct['Venue']"
        },
        {
            "cell_type": "code",
            "execution_count": 214,
            "metadata": {},
            "outputs": [
                {
                    "data": {
                        "text/plain": "(61, 12)"
                    },
                    "execution_count": 214,
                    "metadata": {},
                    "output_type": "execute_result"
                }
            ],
            "source": "np.shape(q1ct)"
        },
        {
            "cell_type": "code",
            "execution_count": 215,
            "metadata": {},
            "outputs": [],
            "source": "q1ct = q1ct.dropna()"
        },
        {
            "cell_type": "code",
            "execution_count": 216,
            "metadata": {},
            "outputs": [
                {
                    "data": {
                        "text/plain": "(60, 12)"
                    },
                    "execution_count": 216,
                    "metadata": {},
                    "output_type": "execute_result"
                }
            ],
            "source": "np.shape(q1ct)"
        },
        {
            "cell_type": "code",
            "execution_count": 217,
            "metadata": {},
            "outputs": [
                {
                    "data": {
                        "text/html": "<div>\n<style scoped>\n    .dataframe tbody tr th:only-of-type {\n        vertical-align: middle;\n    }\n\n    .dataframe tbody tr th {\n        vertical-align: top;\n    }\n\n    .dataframe thead th {\n        text-align: right;\n    }\n</style>\n<table border=\"1\" class=\"dataframe\">\n  <thead>\n    <tr style=\"text-align: right;\">\n      <th></th>\n      <th>Neighborhood</th>\n      <th>Venue</th>\n      <th>Postal Code</th>\n      <th>Borough</th>\n      <th>Latitude</th>\n      <th>Longitude</th>\n      <th>Province or territory</th>\n      <th>Population, 2016</th>\n      <th>Total private dwellings, 2016</th>\n      <th>Private dwellings occupied by usual residents, 2016</th>\n      <th>Venue_per_Capita</th>\n      <th>Venue_per_Dwelling</th>\n    </tr>\n  </thead>\n  <tbody>\n    <tr>\n      <th>0</th>\n      <td>Regent Park, Harbourfront</td>\n      <td>8</td>\n      <td>M5A</td>\n      <td>Downtown Toronto</td>\n      <td>43.654260</td>\n      <td>-79.360636</td>\n      <td>Ontario</td>\n      <td>41078.0</td>\n      <td>24186.0</td>\n      <td>22333.0</td>\n      <td>5134.750</td>\n      <td>3023.250000</td>\n    </tr>\n    <tr>\n      <th>1</th>\n      <td>Central Bay Street</td>\n      <td>8</td>\n      <td>M5G</td>\n      <td>Downtown Toronto</td>\n      <td>43.657952</td>\n      <td>-79.387383</td>\n      <td>Ontario</td>\n      <td>8423.0</td>\n      <td>5876.0</td>\n      <td>4929.0</td>\n      <td>1052.875</td>\n      <td>734.500000</td>\n    </tr>\n    <tr>\n      <th>2</th>\n      <td>Queen's Park, Ontario Provincial Government</td>\n      <td>8</td>\n      <td>M7A</td>\n      <td>Downtown Toronto</td>\n      <td>43.662301</td>\n      <td>-79.389494</td>\n      <td>Ontario</td>\n      <td>10.0</td>\n      <td>6.0</td>\n      <td>5.0</td>\n      <td>1.250</td>\n      <td>0.750000</td>\n    </tr>\n    <tr>\n      <th>3</th>\n      <td>Toronto Dominion Centre, Design Exchange</td>\n      <td>6</td>\n      <td>M5K</td>\n      <td>Downtown Toronto</td>\n      <td>43.647177</td>\n      <td>-79.381576</td>\n      <td>Ontario</td>\n      <td>0.0</td>\n      <td>1.0</td>\n      <td>1.0</td>\n      <td>0.000</td>\n      <td>0.166667</td>\n    </tr>\n    <tr>\n      <th>4</th>\n      <td>Leaside</td>\n      <td>5</td>\n      <td>M4G</td>\n      <td>East York</td>\n      <td>43.709060</td>\n      <td>-79.363452</td>\n      <td>Ontario</td>\n      <td>19076.0</td>\n      <td>8108.0</td>\n      <td>7731.0</td>\n      <td>3815.200</td>\n      <td>1621.600000</td>\n    </tr>\n  </tbody>\n</table>\n</div>",
                        "text/plain": "                                  Neighborhood  Venue Postal Code  \\\n0                    Regent Park, Harbourfront      8         M5A   \n1                           Central Bay Street      8         M5G   \n2  Queen's Park, Ontario Provincial Government      8         M7A   \n3     Toronto Dominion Centre, Design Exchange      6         M5K   \n4                                      Leaside      5         M4G   \n\n            Borough   Latitude  Longitude Province or territory  \\\n0  Downtown Toronto  43.654260 -79.360636               Ontario   \n1  Downtown Toronto  43.657952 -79.387383               Ontario   \n2  Downtown Toronto  43.662301 -79.389494               Ontario   \n3  Downtown Toronto  43.647177 -79.381576               Ontario   \n4         East York  43.709060 -79.363452               Ontario   \n\n   Population, 2016  Total private dwellings, 2016  \\\n0           41078.0                        24186.0   \n1            8423.0                         5876.0   \n2              10.0                            6.0   \n3               0.0                            1.0   \n4           19076.0                         8108.0   \n\n   Private dwellings occupied by usual residents, 2016  Venue_per_Capita  \\\n0                                            22333.0            5134.750   \n1                                             4929.0            1052.875   \n2                                                5.0               1.250   \n3                                                1.0               0.000   \n4                                             7731.0            3815.200   \n\n   Venue_per_Dwelling  \n0         3023.250000  \n1          734.500000  \n2            0.750000  \n3            0.166667  \n4         1621.600000  "
                    },
                    "execution_count": 217,
                    "metadata": {},
                    "output_type": "execute_result"
                }
            ],
            "source": "q1ct.head()"
        },
        {
            "cell_type": "markdown",
            "metadata": {},
            "source": "### Pearson Correlation of Population and Dwelling"
        },
        {
            "cell_type": "code",
            "execution_count": 188,
            "metadata": {},
            "outputs": [
                {
                    "data": {
                        "text/plain": "(-0.130227072374311, 0.3213213381973053)"
                    },
                    "execution_count": 188,
                    "metadata": {},
                    "output_type": "execute_result"
                }
            ],
            "source": "from scipy.stats import pearsonr\npop_corr = pearsonr(q1ct['Population, 2016'], q1ct['Venue'])\npop_corr"
        },
        {
            "cell_type": "code",
            "execution_count": 189,
            "metadata": {},
            "outputs": [
                {
                    "data": {
                        "text/plain": "(-0.0713313647634122, 0.5880954444715327)"
                    },
                    "execution_count": 189,
                    "metadata": {},
                    "output_type": "execute_result"
                }
            ],
            "source": "dwell_corr = pearsonr(q1ct['Total private dwellings, 2016'], q1ct['Venue'])\ndwell_corr"
        },
        {
            "cell_type": "code",
            "execution_count": 190,
            "metadata": {},
            "outputs": [],
            "source": "import matplotlib.pyplot as plt\n%matplotlib inline"
        },
        {
            "cell_type": "code",
            "execution_count": 191,
            "metadata": {},
            "outputs": [
                {
                    "data": {
                        "image/png": "[encoded data removed]",
                        "text/plain": "<Figure size 432x288 with 1 Axes>"
                    },
                    "metadata": {
                        "needs_background": "light"
                    },
                    "output_type": "display_data"
                }
            ],
            "source": "plt.scatter(q1ct['Population, 2016'],q1ct.Venue, color = 'blue')\nplt.xlabel(\"Population\")\nplt.ylabel(\"Venues\")\nplt.show()"
        },
        {
            "cell_type": "code",
            "execution_count": 192,
            "metadata": {},
            "outputs": [
                {
                    "data": {
                        "image/png": "[encoded data removed]",
                        "text/plain": "<Figure size 432x288 with 1 Axes>"
                    },
                    "metadata": {
                        "needs_background": "light"
                    },
                    "output_type": "display_data"
                }
            ],
            "source": "plt.scatter(q1ct['Total private dwellings, 2016'],q1ct.Venue, color = 'blue')\nplt.xlabel(\"Dwellings\")\nplt.ylabel(\"Venues\")\nplt.show()"
        },
        {
            "cell_type": "markdown",
            "metadata": {},
            "source": "#### Logistic Regression Data Preprocessing"
        },
        {
            "cell_type": "code",
            "execution_count": 193,
            "metadata": {},
            "outputs": [
                {
                    "data": {
                        "text/plain": "array([8, 8, 8, 6, 5])"
                    },
                    "execution_count": 193,
                    "metadata": {},
                    "output_type": "execute_result"
                }
            ],
            "source": "q1ct['Venue'] = q1ct['Venue'].astype('int')\nq1ct['Total private dwellings, 2016'] = q1ct['Total private dwellings, 2016'].astype('int')\nq1ct['Population, 2016'] = q1ct['Population, 2016'].astype('int')\n\nx = np.asarray(q1ct[['Total private dwellings, 2016','Population, 2016','Venue_per_Capita','Venue_per_Dwelling']])\nx[0:5]\n\ny = np.asarray(q1ct['Venue'])\ny [0:5]\n"
        },
        {
            "cell_type": "markdown",
            "metadata": {},
            "source": "Normalize Data Set"
        },
        {
            "cell_type": "code",
            "execution_count": 194,
            "metadata": {},
            "outputs": [
                {
                    "data": {
                        "text/plain": "array([[ 1.53558249,  0.80194524, -0.74299513, -0.62716008],\n       [-0.84862109, -1.11986079, -1.00785627, -0.95455614],\n       [-1.61297253, -1.61498111, -1.07609319, -1.05951599],\n       [-1.6136236 , -1.61556963, -1.0761743 , -1.05959943],\n       [-0.55798524, -0.4929124 , -0.82861694, -0.82766021]])"
                    },
                    "execution_count": 194,
                    "metadata": {},
                    "output_type": "execute_result"
                }
            ],
            "source": "from sklearn import preprocessing\nx = preprocessing.StandardScaler().fit(x).transform(x)\nx[0:5]"
        },
        {
            "cell_type": "code",
            "execution_count": 195,
            "metadata": {},
            "outputs": [
                {
                    "name": "stdout",
                    "output_type": "stream",
                    "text": "Train set: (48, 4) (48,)\nTest set: (12, 4) (12,)\n"
                }
            ],
            "source": "from sklearn.model_selection import train_test_split\nX_train, X_test, y_train, y_test = train_test_split( x, y, test_size=0.2, random_state=4)\nprint ('Train set:', X_train.shape,  y_train.shape)\nprint ('Test set:', X_test.shape,  y_test.shape)"
        },
        {
            "cell_type": "markdown",
            "metadata": {},
            "source": "Modeling Scikit Learn\n"
        },
        {
            "cell_type": "code",
            "execution_count": 196,
            "metadata": {},
            "outputs": [
                {
                    "name": "stderr",
                    "output_type": "stream",
                    "text": "/opt/conda/envs/Python36/lib/python3.6/site-packages/sklearn/linear_model/logistic.py:460: FutureWarning: Default multi_class will be changed to 'auto' in 0.22. Specify the multi_class option to silence this warning.\n  \"this warning.\", FutureWarning)\n"
                },
                {
                    "data": {
                        "text/plain": "LogisticRegression(C=0.01, class_weight=None, dual=False, fit_intercept=True,\n          intercept_scaling=1, max_iter=100, multi_class='warn',\n          n_jobs=None, penalty='l2', random_state=None, solver='liblinear',\n          tol=0.0001, verbose=0, warm_start=False)"
                    },
                    "execution_count": 196,
                    "metadata": {},
                    "output_type": "execute_result"
                }
            ],
            "source": "from sklearn.linear_model import LogisticRegression\nfrom sklearn.metrics import confusion_matrix\nLR = LogisticRegression(C=0.01, solver='liblinear').fit(X_train,y_train)\nLR"
        },
        {
            "cell_type": "code",
            "execution_count": 197,
            "metadata": {},
            "outputs": [
                {
                    "data": {
                        "text/plain": "array([3, 1, 1, 3, 2, 3, 2, 2, 1, 2, 1, 3])"
                    },
                    "execution_count": 197,
                    "metadata": {},
                    "output_type": "execute_result"
                }
            ],
            "source": "yhat = LR.predict(X_test)\nyhat"
        },
        {
            "cell_type": "code",
            "execution_count": 198,
            "metadata": {},
            "outputs": [
                {
                    "data": {
                        "text/plain": "array([[0.13006202, 0.14828625, 0.14918489, 0.14688789, 0.14051764,\n        0.14112179, 0.14393952],\n       [0.14772764, 0.14563656, 0.14284448, 0.14359137, 0.1413079 ,\n        0.13835974, 0.14053231],\n       [0.17519117, 0.14130744, 0.13649715, 0.13670138, 0.13761755,\n        0.13663643, 0.13604889],\n       [0.12837151, 0.14842086, 0.15024188, 0.14703964, 0.13967591,\n        0.14176702, 0.14448317],\n       [0.135331  , 0.14745542, 0.14717382, 0.14599588, 0.14084844,\n        0.14024013, 0.14295531],\n       [0.13594711, 0.14738082, 0.14793565, 0.14532073, 0.13959815,\n        0.14084088, 0.14297666],\n       [0.14294222, 0.1461425 , 0.14529882, 0.14422267, 0.13980862,\n        0.1397538 , 0.14183136],\n       [0.140028  , 0.14673737, 0.14646648, 0.14458423, 0.13974037,\n        0.14021676, 0.14222679],\n       [0.16231135, 0.14331473, 0.13502472, 0.14241097, 0.14526003,\n        0.13424742, 0.13743079],\n       [0.14424531, 0.14607424, 0.14605747, 0.14320529, 0.13842136,\n        0.14036479, 0.14163155],\n       [0.14949312, 0.14548661, 0.14080874, 0.14396026, 0.14342978,\n        0.13700963, 0.13981186],\n       [0.13256576, 0.14797879, 0.14877695, 0.14609649, 0.14007488,\n        0.14105137, 0.14345576]])"
                    },
                    "execution_count": 198,
                    "metadata": {},
                    "output_type": "execute_result"
                }
            ],
            "source": "yhat_prob = LR.predict_proba(X_test)\nyhat_prob"
        },
        {
            "cell_type": "markdown",
            "metadata": {},
            "source": "#### Model Evaulation - Jaccard Index\n"
        },
        {
            "cell_type": "code",
            "execution_count": 199,
            "metadata": {},
            "outputs": [
                {
                    "name": "stdout",
                    "output_type": "stream",
                    "text": "The Jaccard Index Score is  0.4166666666666667\n"
                }
            ],
            "source": "from sklearn.metrics import jaccard_similarity_score\nJ_index = jaccard_similarity_score(y_test, yhat)\n\nprint(\"The Jaccard Index Score is \", J_index)\n"
        },
        {
            "cell_type": "markdown",
            "metadata": {},
            "source": "#### K Means Clustering"
        },
        {
            "cell_type": "markdown",
            "metadata": {},
            "source": "Create New Data Set from Venue and Population Data"
        },
        {
            "cell_type": "code",
            "execution_count": 200,
            "metadata": {},
            "outputs": [],
            "source": "x1 = q1ct\n"
        },
        {
            "cell_type": "code",
            "execution_count": 209,
            "metadata": {},
            "outputs": [
                {
                    "data": {
                        "text/plain": "(60, 6)"
                    },
                    "execution_count": 209,
                    "metadata": {},
                    "output_type": "execute_result"
                }
            ],
            "source": "np.shape(q1ct)"
        },
        {
            "cell_type": "code",
            "execution_count": 201,
            "metadata": {},
            "outputs": [],
            "source": "del x1['Postal Code']\ndel x1['Borough']\ndel x1['Neighborhood']\ndel x1['Latitude']\ndel x1['Longitude']\ndel x1['Province or territory']\ndel x1['Private dwellings occupied by usual residents, 2016']\n"
        },
        {
            "cell_type": "code",
            "execution_count": 202,
            "metadata": {},
            "outputs": [
                {
                    "data": {
                        "text/html": "<div>\n<style scoped>\n    .dataframe tbody tr th:only-of-type {\n        vertical-align: middle;\n    }\n\n    .dataframe tbody tr th {\n        vertical-align: top;\n    }\n\n    .dataframe thead th {\n        text-align: right;\n    }\n</style>\n<table border=\"1\" class=\"dataframe\">\n  <thead>\n    <tr style=\"text-align: right;\">\n      <th></th>\n      <th>Venue</th>\n      <th>Population, 2016</th>\n      <th>Total private dwellings, 2016</th>\n      <th>Venue_per_Capita</th>\n      <th>Venue_per_Dwelling</th>\n    </tr>\n  </thead>\n  <tbody>\n    <tr>\n      <th>0</th>\n      <td>8</td>\n      <td>41078</td>\n      <td>24186</td>\n      <td>5134.750</td>\n      <td>3023.250000</td>\n    </tr>\n    <tr>\n      <th>1</th>\n      <td>8</td>\n      <td>8423</td>\n      <td>5876</td>\n      <td>1052.875</td>\n      <td>734.500000</td>\n    </tr>\n    <tr>\n      <th>2</th>\n      <td>8</td>\n      <td>10</td>\n      <td>6</td>\n      <td>1.250</td>\n      <td>0.750000</td>\n    </tr>\n    <tr>\n      <th>3</th>\n      <td>6</td>\n      <td>0</td>\n      <td>1</td>\n      <td>0.000</td>\n      <td>0.166667</td>\n    </tr>\n    <tr>\n      <th>4</th>\n      <td>5</td>\n      <td>19076</td>\n      <td>8108</td>\n      <td>3815.200</td>\n      <td>1621.600000</td>\n    </tr>\n  </tbody>\n</table>\n</div>",
                        "text/plain": "   Venue  Population, 2016  Total private dwellings, 2016  Venue_per_Capita  \\\n0      8             41078                          24186          5134.750   \n1      8              8423                           5876          1052.875   \n2      8                10                              6             1.250   \n3      6                 0                              1             0.000   \n4      5             19076                           8108          3815.200   \n\n   Venue_per_Dwelling  \n0         3023.250000  \n1          734.500000  \n2            0.750000  \n3            0.166667  \n4         1621.600000  "
                    },
                    "execution_count": 202,
                    "metadata": {},
                    "output_type": "execute_result"
                }
            ],
            "source": "preprocesssed_data = x1\npreprocesssed_data.head()"
        },
        {
            "cell_type": "code",
            "execution_count": 203,
            "metadata": {
                "scrolled": true
            },
            "outputs": [],
            "source": "from sklearn.preprocessing import StandardScaler\nx1 = np.nan_to_num(x1)\nClus_dataSet = StandardScaler().fit_transform(x1)\n"
        },
        {
            "cell_type": "code",
            "execution_count": 204,
            "metadata": {},
            "outputs": [
                {
                    "name": "stdout",
                    "output_type": "stream",
                    "text": "[2 0 0 0 0 0 2 2 2 0 2 0 0 0 0 2 0 0 2 2 2 2 0 0 0 0 0 1 0 2 0 0 0 0 0 0 2\n 2 2 1 0 0 1 0 1 1 2 1 1 0 1 0 1 1 1 1 1 1 0 1]\n"
                }
            ],
            "source": "num_clusters = 3\nk_means = KMeans(init=\"k-means++\", n_clusters=num_clusters, n_init=12)\nk_means.fit(x1)\nlabels = k_means.labels_\n\nprint(labels)"
        },
        {
            "cell_type": "code",
            "execution_count": 205,
            "metadata": {},
            "outputs": [
                {
                    "data": {
                        "text/html": "<div>\n<style scoped>\n    .dataframe tbody tr th:only-of-type {\n        vertical-align: middle;\n    }\n\n    .dataframe tbody tr th {\n        vertical-align: top;\n    }\n\n    .dataframe thead th {\n        text-align: right;\n    }\n</style>\n<table border=\"1\" class=\"dataframe\">\n  <thead>\n    <tr style=\"text-align: right;\">\n      <th></th>\n      <th>Venue</th>\n      <th>Population, 2016</th>\n      <th>Total private dwellings, 2016</th>\n      <th>Venue_per_Capita</th>\n      <th>Venue_per_Dwelling</th>\n      <th>Clus_km</th>\n    </tr>\n  </thead>\n  <tbody>\n    <tr>\n      <th>0</th>\n      <td>8</td>\n      <td>41078</td>\n      <td>24186</td>\n      <td>5134.750</td>\n      <td>3023.250000</td>\n      <td>2</td>\n    </tr>\n    <tr>\n      <th>1</th>\n      <td>8</td>\n      <td>8423</td>\n      <td>5876</td>\n      <td>1052.875</td>\n      <td>734.500000</td>\n      <td>0</td>\n    </tr>\n    <tr>\n      <th>2</th>\n      <td>8</td>\n      <td>10</td>\n      <td>6</td>\n      <td>1.250</td>\n      <td>0.750000</td>\n      <td>0</td>\n    </tr>\n    <tr>\n      <th>3</th>\n      <td>6</td>\n      <td>0</td>\n      <td>1</td>\n      <td>0.000</td>\n      <td>0.166667</td>\n      <td>0</td>\n    </tr>\n    <tr>\n      <th>4</th>\n      <td>5</td>\n      <td>19076</td>\n      <td>8108</td>\n      <td>3815.200</td>\n      <td>1621.600000</td>\n      <td>0</td>\n    </tr>\n  </tbody>\n</table>\n</div>",
                        "text/plain": "   Venue  Population, 2016  Total private dwellings, 2016  Venue_per_Capita  \\\n0      8             41078                          24186          5134.750   \n1      8              8423                           5876          1052.875   \n2      8                10                              6             1.250   \n3      6                 0                              1             0.000   \n4      5             19076                           8108          3815.200   \n\n   Venue_per_Dwelling  Clus_km  \n0         3023.250000        2  \n1          734.500000        0  \n2            0.750000        0  \n3            0.166667        0  \n4         1621.600000        0  "
                    },
                    "execution_count": 205,
                    "metadata": {},
                    "output_type": "execute_result"
                }
            ],
            "source": "preprocesssed_data[\"Clus_km\"] = labels\npreprocesssed_data.head(5)"
        },
        {
            "cell_type": "code",
            "execution_count": 218,
            "metadata": {},
            "outputs": [
                {
                    "data": {
                        "text/plain": "(60, 12)"
                    },
                    "execution_count": 218,
                    "metadata": {},
                    "output_type": "execute_result"
                }
            ],
            "source": "np.shape(q1ct)"
        },
        {
            "cell_type": "code",
            "execution_count": 219,
            "metadata": {},
            "outputs": [
                {
                    "data": {
                        "text/html": "<div>\n<style scoped>\n    .dataframe tbody tr th:only-of-type {\n        vertical-align: middle;\n    }\n\n    .dataframe tbody tr th {\n        vertical-align: top;\n    }\n\n    .dataframe thead th {\n        text-align: right;\n    }\n</style>\n<table border=\"1\" class=\"dataframe\">\n  <thead>\n    <tr style=\"text-align: right;\">\n      <th></th>\n      <th>Neighborhood</th>\n      <th>Venue</th>\n      <th>Postal Code</th>\n      <th>Borough</th>\n      <th>Latitude</th>\n      <th>Longitude</th>\n      <th>Province or territory</th>\n      <th>Population, 2016</th>\n      <th>Total private dwellings, 2016</th>\n      <th>Private dwellings occupied by usual residents, 2016</th>\n      <th>Venue_per_Capita</th>\n      <th>Venue_per_Dwelling</th>\n      <th>Clus_km</th>\n    </tr>\n  </thead>\n  <tbody>\n    <tr>\n      <th>0</th>\n      <td>Regent Park, Harbourfront</td>\n      <td>8</td>\n      <td>M5A</td>\n      <td>Downtown Toronto</td>\n      <td>43.654260</td>\n      <td>-79.360636</td>\n      <td>Ontario</td>\n      <td>41078.0</td>\n      <td>24186.0</td>\n      <td>22333.0</td>\n      <td>5134.750</td>\n      <td>3023.250000</td>\n      <td>2</td>\n    </tr>\n    <tr>\n      <th>1</th>\n      <td>Central Bay Street</td>\n      <td>8</td>\n      <td>M5G</td>\n      <td>Downtown Toronto</td>\n      <td>43.657952</td>\n      <td>-79.387383</td>\n      <td>Ontario</td>\n      <td>8423.0</td>\n      <td>5876.0</td>\n      <td>4929.0</td>\n      <td>1052.875</td>\n      <td>734.500000</td>\n      <td>0</td>\n    </tr>\n    <tr>\n      <th>2</th>\n      <td>Queen's Park, Ontario Provincial Government</td>\n      <td>8</td>\n      <td>M7A</td>\n      <td>Downtown Toronto</td>\n      <td>43.662301</td>\n      <td>-79.389494</td>\n      <td>Ontario</td>\n      <td>10.0</td>\n      <td>6.0</td>\n      <td>5.0</td>\n      <td>1.250</td>\n      <td>0.750000</td>\n      <td>0</td>\n    </tr>\n    <tr>\n      <th>3</th>\n      <td>Toronto Dominion Centre, Design Exchange</td>\n      <td>6</td>\n      <td>M5K</td>\n      <td>Downtown Toronto</td>\n      <td>43.647177</td>\n      <td>-79.381576</td>\n      <td>Ontario</td>\n      <td>0.0</td>\n      <td>1.0</td>\n      <td>1.0</td>\n      <td>0.000</td>\n      <td>0.166667</td>\n      <td>0</td>\n    </tr>\n    <tr>\n      <th>4</th>\n      <td>Leaside</td>\n      <td>5</td>\n      <td>M4G</td>\n      <td>East York</td>\n      <td>43.709060</td>\n      <td>-79.363452</td>\n      <td>Ontario</td>\n      <td>19076.0</td>\n      <td>8108.0</td>\n      <td>7731.0</td>\n      <td>3815.200</td>\n      <td>1621.600000</td>\n      <td>0</td>\n    </tr>\n  </tbody>\n</table>\n</div>",
                        "text/plain": "                                  Neighborhood  Venue Postal Code  \\\n0                    Regent Park, Harbourfront      8         M5A   \n1                           Central Bay Street      8         M5G   \n2  Queen's Park, Ontario Provincial Government      8         M7A   \n3     Toronto Dominion Centre, Design Exchange      6         M5K   \n4                                      Leaside      5         M4G   \n\n            Borough   Latitude  Longitude Province or territory  \\\n0  Downtown Toronto  43.654260 -79.360636               Ontario   \n1  Downtown Toronto  43.657952 -79.387383               Ontario   \n2  Downtown Toronto  43.662301 -79.389494               Ontario   \n3  Downtown Toronto  43.647177 -79.381576               Ontario   \n4         East York  43.709060 -79.363452               Ontario   \n\n   Population, 2016  Total private dwellings, 2016  \\\n0           41078.0                        24186.0   \n1            8423.0                         5876.0   \n2              10.0                            6.0   \n3               0.0                            1.0   \n4           19076.0                         8108.0   \n\n   Private dwellings occupied by usual residents, 2016  Venue_per_Capita  \\\n0                                            22333.0            5134.750   \n1                                             4929.0            1052.875   \n2                                                5.0               1.250   \n3                                                1.0               0.000   \n4                                             7731.0            3815.200   \n\n   Venue_per_Dwelling  Clus_km  \n0         3023.250000        2  \n1          734.500000        0  \n2            0.750000        0  \n3            0.166667        0  \n4         1621.600000        0  "
                    },
                    "execution_count": 219,
                    "metadata": {},
                    "output_type": "execute_result"
                }
            ],
            "source": "q1ct[\"Clus_km\"] = labels\nq1ct.head(5)"
        },
        {
            "cell_type": "markdown",
            "metadata": {},
            "source": "#### Decision"
        },
        {
            "cell_type": "markdown",
            "metadata": {},
            "source": "Print mean values for each group. Cluster 1 is clearly the favorite here with the high populations and low venues counts. "
        },
        {
            "cell_type": "code",
            "execution_count": 220,
            "metadata": {},
            "outputs": [
                {
                    "data": {
                        "text/html": "<div>\n<style scoped>\n    .dataframe tbody tr th:only-of-type {\n        vertical-align: middle;\n    }\n\n    .dataframe tbody tr th {\n        vertical-align: top;\n    }\n\n    .dataframe thead th {\n        text-align: right;\n    }\n</style>\n<table border=\"1\" class=\"dataframe\">\n  <thead>\n    <tr style=\"text-align: right;\">\n      <th></th>\n      <th>Venue</th>\n      <th>Population, 2016</th>\n      <th>Total private dwellings, 2016</th>\n      <th>Venue_per_Capita</th>\n      <th>Venue_per_Dwelling</th>\n    </tr>\n    <tr>\n      <th>Clus_km</th>\n      <th></th>\n      <th></th>\n      <th></th>\n      <th></th>\n      <th></th>\n    </tr>\n  </thead>\n  <tbody>\n    <tr>\n      <th>0</th>\n      <td>3.066667</td>\n      <td>13797.833333</td>\n      <td>6787.666667</td>\n      <td>6381.678611</td>\n      <td>3118.810000</td>\n    </tr>\n    <tr>\n      <th>1</th>\n      <td>1.066667</td>\n      <td>42189.333333</td>\n      <td>18170.000000</td>\n      <td>40324.033333</td>\n      <td>17583.666667</td>\n    </tr>\n    <tr>\n      <th>2</th>\n      <td>3.466667</td>\n      <td>40020.933333</td>\n      <td>17827.333333</td>\n      <td>13253.924444</td>\n      <td>5809.036667</td>\n    </tr>\n  </tbody>\n</table>\n</div>",
                        "text/plain": "            Venue  Population, 2016  Total private dwellings, 2016  \\\nClus_km                                                              \n0        3.066667      13797.833333                    6787.666667   \n1        1.066667      42189.333333                   18170.000000   \n2        3.466667      40020.933333                   17827.333333   \n\n         Venue_per_Capita  Venue_per_Dwelling  \nClus_km                                        \n0             6381.678611         3118.810000  \n1            40324.033333        17583.666667  \n2            13253.924444         5809.036667  "
                    },
                    "execution_count": 220,
                    "metadata": {},
                    "output_type": "execute_result"
                }
            ],
            "source": "preprocesssed_data.groupby('Clus_km').mean()"
        },
        {
            "cell_type": "code",
            "execution_count": 224,
            "metadata": {},
            "outputs": [
                {
                    "data": {
                        "text/html": "<div>\n<style scoped>\n    .dataframe tbody tr th:only-of-type {\n        vertical-align: middle;\n    }\n\n    .dataframe tbody tr th {\n        vertical-align: top;\n    }\n\n    .dataframe thead th {\n        text-align: right;\n    }\n</style>\n<table border=\"1\" class=\"dataframe\">\n  <thead>\n    <tr style=\"text-align: right;\">\n      <th></th>\n      <th>Neighborhood</th>\n      <th>Clus_km</th>\n    </tr>\n  </thead>\n  <tbody>\n    <tr>\n      <th>28</th>\n      <td>South Steeles, Silverstone, Humbergate, Jamest...</td>\n      <td>1</td>\n    </tr>\n    <tr>\n      <th>40</th>\n      <td>The Danforth West, Riverdale</td>\n      <td>1</td>\n    </tr>\n    <tr>\n      <th>43</th>\n      <td>Willowdale, Willowdale West</td>\n      <td>1</td>\n    </tr>\n    <tr>\n      <th>45</th>\n      <td>Agincourt</td>\n      <td>1</td>\n    </tr>\n    <tr>\n      <th>46</th>\n      <td>Runnymede, The Junction North</td>\n      <td>1</td>\n    </tr>\n    <tr>\n      <th>48</th>\n      <td>New Toronto, Mimico South, Humber Bay Shores</td>\n      <td>1</td>\n    </tr>\n    <tr>\n      <th>49</th>\n      <td>Malvern, Rouge</td>\n      <td>1</td>\n    </tr>\n    <tr>\n      <th>51</th>\n      <td>Kingsview Village, St. Phillips, Martin Grove ...</td>\n      <td>1</td>\n    </tr>\n    <tr>\n      <th>53</th>\n      <td>Kennedy Park, Ionview, East Birchmount Park</td>\n      <td>1</td>\n    </tr>\n    <tr>\n      <th>54</th>\n      <td>High Park, The Junction South</td>\n      <td>1</td>\n    </tr>\n    <tr>\n      <th>55</th>\n      <td>Guildwood, Morningside, West Hill</td>\n      <td>1</td>\n    </tr>\n    <tr>\n      <th>56</th>\n      <td>Eringate, Bloordale Gardens, Old Burnhamthorpe...</td>\n      <td>1</td>\n    </tr>\n    <tr>\n      <th>57</th>\n      <td>Christie</td>\n      <td>1</td>\n    </tr>\n    <tr>\n      <th>58</th>\n      <td>CN Tower, King and Spadina, Railway Lands, Har...</td>\n      <td>1</td>\n    </tr>\n    <tr>\n      <th>60</th>\n      <td>Little Portugal, Trinity</td>\n      <td>1</td>\n    </tr>\n  </tbody>\n</table>\n</div>",
                        "text/plain": "                                         Neighborhood  Clus_km\n28  South Steeles, Silverstone, Humbergate, Jamest...        1\n40                       The Danforth West, Riverdale        1\n43                        Willowdale, Willowdale West        1\n45                                          Agincourt        1\n46                      Runnymede, The Junction North        1\n48       New Toronto, Mimico South, Humber Bay Shores        1\n49                                     Malvern, Rouge        1\n51  Kingsview Village, St. Phillips, Martin Grove ...        1\n53        Kennedy Park, Ionview, East Birchmount Park        1\n54                      High Park, The Junction South        1\n55                  Guildwood, Morningside, West Hill        1\n56  Eringate, Bloordale Gardens, Old Burnhamthorpe...        1\n57                                           Christie        1\n58  CN Tower, King and Spadina, Railway Lands, Har...        1\n60                           Little Portugal, Trinity        1"
                    },
                    "execution_count": 224,
                    "metadata": {},
                    "output_type": "execute_result"
                }
            ],
            "source": "kmean_result = q1ct[q1ct['Clus_km'] == 1]\n\n\nkmean_result = kmean_result[['Neighborhood','Clus_km']]\nkmean_result\n\n"
        },
        {
            "cell_type": "code",
            "execution_count": null,
            "metadata": {},
            "outputs": [],
            "source": ""
        }
    ],
    "metadata": {
        "kernelspec": {
            "display_name": "Python 3.6",
            "language": "python",
            "name": "python3"
        },
        "language_info": {
            "codemirror_mode": {
                "name": "ipython",
                "version": 3
            },
            "file_extension": ".py",
            "mimetype": "text/x-python",
            "name": "python",
            "nbconvert_exporter": "python",
            "pygments_lexer": "ipython3",
            "version": "3.6.9"
        }
    },
    "nbformat": 4,
    "nbformat_minor": 1
}
